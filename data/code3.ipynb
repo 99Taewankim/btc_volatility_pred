{
 "cells": [
  {
   "cell_type": "code",
   "execution_count": 1,
   "metadata": {},
   "outputs": [
    {
     "name": "stderr",
     "output_type": "stream",
     "text": [
      "C:\\Users\\Taewan\\AppData\\Local\\Temp\\ipykernel_21468\\3910376329.py:2: DeprecationWarning: \n",
      "Pyarrow will become a required dependency of pandas in the next major release of pandas (pandas 3.0),\n",
      "(to allow more performant data types, such as the Arrow string type, and better interoperability with other libraries)\n",
      "but was not found to be installed on your system.\n",
      "If this would cause problems for you,\n",
      "please provide us feedback at https://github.com/pandas-dev/pandas/issues/54466\n",
      "        \n",
      "  import pandas as pd\n"
     ]
    }
   ],
   "source": [
    "import numpy as np\n",
    "import pandas as pd\n",
    "\n",
    "file_path = \"BTCUSDT-trades-2023-{}.csv\".format(\"01\")\n",
    "\n",
    "# 로드할 열의 리스트\n",
    "selected_columns = [\"quote_qty\", \"time\", \"is_buyer_maker\"]\n",
    "df = pd.read_csv(file_path, usecols=selected_columns)"
   ]
  },
  {
   "cell_type": "code",
   "execution_count": 12,
   "metadata": {},
   "outputs": [
    {
     "data": {
      "text/plain": [
       "78708882"
      ]
     },
     "execution_count": 12,
     "metadata": {},
     "output_type": "execute_result"
    }
   ],
   "source": [
    "len(df)"
   ]
  },
  {
   "cell_type": "code",
   "execution_count": 16,
   "metadata": {},
   "outputs": [
    {
     "name": "stdout",
     "output_type": "stream",
     "text": [
      "0\n",
      "1000000\n"
     ]
    },
    {
     "ename": "KeyboardInterrupt",
     "evalue": "",
     "output_type": "error",
     "traceback": [
      "\u001b[1;31m---------------------------------------------------------------------------\u001b[0m",
      "\u001b[1;31mKeyboardInterrupt\u001b[0m                         Traceback (most recent call last)",
      "Cell \u001b[1;32mIn[16], line 30\u001b[0m\n\u001b[0;32m     27\u001b[0m     \u001b[39mreturn\u001b[39;00m max_consecutive_true, max_consecutive_false\n\u001b[0;32m     29\u001b[0m \u001b[39m# 최대 연속 횟수 계산 및 출력\u001b[39;00m\n\u001b[1;32m---> 30\u001b[0m max_consecutive_true, max_consecutive_false \u001b[39m=\u001b[39m find_max_consecutive_counts(df)\n\u001b[0;32m     31\u001b[0m \u001b[39mprint\u001b[39m(\u001b[39mf\u001b[39m\u001b[39m\"\u001b[39m\u001b[39m최대 연속 True 횟수: \u001b[39m\u001b[39m{\u001b[39;00mmax_consecutive_true\u001b[39m}\u001b[39;00m\u001b[39m\"\u001b[39m)\n\u001b[0;32m     32\u001b[0m \u001b[39mprint\u001b[39m(\u001b[39mf\u001b[39m\u001b[39m\"\u001b[39m\u001b[39m최대 연속 False 횟수: \u001b[39m\u001b[39m{\u001b[39;00mmax_consecutive_false\u001b[39m}\u001b[39;00m\u001b[39m\"\u001b[39m)\n",
      "Cell \u001b[1;32mIn[16], line 11\u001b[0m, in \u001b[0;36mfind_max_consecutive_counts\u001b[1;34m(df)\u001b[0m\n\u001b[0;32m      8\u001b[0m current_false_count \u001b[39m=\u001b[39m \u001b[39m0\u001b[39m\n\u001b[0;32m     10\u001b[0m \u001b[39mfor\u001b[39;00m i,value \u001b[39min\u001b[39;00m \u001b[39menumerate\u001b[39m(df[\u001b[39m'\u001b[39m\u001b[39mis_buyer_maker\u001b[39m\u001b[39m'\u001b[39m]):\n\u001b[1;32m---> 11\u001b[0m     \u001b[39mif\u001b[39;00m i \u001b[39min\u001b[39;00m [\u001b[39m1000000\u001b[39;49m\u001b[39m*\u001b[39;49mj \u001b[39mfor\u001b[39;49;00m j \u001b[39min\u001b[39;49;00m \u001b[39mrange\u001b[39;49m(\u001b[39m1000\u001b[39;49m)]:\n\u001b[0;32m     12\u001b[0m         \u001b[39mprint\u001b[39m(i)\n\u001b[0;32m     13\u001b[0m     \u001b[39mif\u001b[39;00m value:\n",
      "Cell \u001b[1;32mIn[16], line 11\u001b[0m, in \u001b[0;36m<listcomp>\u001b[1;34m(.0)\u001b[0m\n\u001b[0;32m      8\u001b[0m current_false_count \u001b[39m=\u001b[39m \u001b[39m0\u001b[39m\n\u001b[0;32m     10\u001b[0m \u001b[39mfor\u001b[39;00m i,value \u001b[39min\u001b[39;00m \u001b[39menumerate\u001b[39m(df[\u001b[39m'\u001b[39m\u001b[39mis_buyer_maker\u001b[39m\u001b[39m'\u001b[39m]):\n\u001b[1;32m---> 11\u001b[0m     \u001b[39mif\u001b[39;00m i \u001b[39min\u001b[39;00m [\u001b[39m1000000\u001b[39m\u001b[39m*\u001b[39mj \u001b[39mfor\u001b[39;00m j \u001b[39min\u001b[39;00m \u001b[39mrange\u001b[39m(\u001b[39m1000\u001b[39m)]:\n\u001b[0;32m     12\u001b[0m         \u001b[39mprint\u001b[39m(i)\n\u001b[0;32m     13\u001b[0m     \u001b[39mif\u001b[39;00m value:\n",
      "\u001b[1;31mKeyboardInterrupt\u001b[0m: "
     ]
    }
   ],
   "source": [
    "import pandas as pd\n",
    "\n",
    "def find_max_consecutive_counts(df):\n",
    "    # 'is_buyer_maker' 열의 값이 True 또는 False인 경우 각각 최대 연속 횟수를 찾음\n",
    "    consecutive_true_counts = []\n",
    "    consecutive_false_counts = []\n",
    "    current_true_count = 0\n",
    "    current_false_count = 0\n",
    "\n",
    "    for i,value in enumerate(df['is_buyer_maker']):\n",
    "        if i in [1000000*j for j in range(1000)]:\n",
    "            print(i)\n",
    "        if value:\n",
    "            current_true_count += 1\n",
    "            current_false_count = 0\n",
    "        else:\n",
    "            current_false_count += 1\n",
    "            current_true_count = 0\n",
    "\n",
    "        consecutive_true_counts.append(current_true_count)\n",
    "        consecutive_false_counts.append(current_false_count)\n",
    "\n",
    "    # 최대 연속 횟수 계산\n",
    "    max_consecutive_true = max(consecutive_true_counts)\n",
    "    max_consecutive_false = max(consecutive_false_counts)\n",
    "\n",
    "    return max_consecutive_true, max_consecutive_false\n",
    "\n",
    "# 최대 연속 횟수 계산 및 출력\n",
    "max_consecutive_true, max_consecutive_false = find_max_consecutive_counts(df)\n",
    "print(f\"최대 연속 True 횟수: {max_consecutive_true}\")\n",
    "print(f\"최대 연속 False 횟수: {max_consecutive_false}\")\n"
   ]
  },
  {
   "cell_type": "code",
   "execution_count": 17,
   "metadata": {},
   "outputs": [],
   "source": [
    "df=pd.read_csv(\"df.csv\")"
   ]
  },
  {
   "cell_type": "code",
   "execution_count": 19,
   "metadata": {},
   "outputs": [],
   "source": [
    "df2=pd.read_csv(\"ohlcv_baseline.csv\")"
   ]
  },
  {
   "cell_type": "code",
   "execution_count": 24,
   "metadata": {},
   "outputs": [
    {
     "data": {
      "text/plain": [
       "2880"
      ]
     },
     "execution_count": 24,
     "metadata": {},
     "output_type": "execute_result"
    }
   ],
   "source": [
    "744*4-24*4"
   ]
  },
  {
   "cell_type": "code",
   "execution_count": 42,
   "metadata": {},
   "outputs": [
    {
     "data": {
      "text/plain": [
       "'2023-04-30 23:00:00'"
      ]
     },
     "execution_count": 42,
     "metadata": {},
     "output_type": "execute_result"
    }
   ],
   "source": [
    "df2['time'].iloc[2879]"
   ]
  },
  {
   "cell_type": "code",
   "execution_count": 43,
   "metadata": {},
   "outputs": [],
   "source": [
    "df['time']=df2['time'].iloc[:2880]"
   ]
  },
  {
   "cell_type": "code",
   "execution_count": 44,
   "metadata": {},
   "outputs": [],
   "source": [
    "# 'time' 열을 맨 앞 열로 이동\n",
    "time_column = df.pop('time')\n",
    "df.insert(0, 'time', time_column)\n",
    "\n",
    "df.iloc[:744,:].to_csv(\"jan_vol.csv\")"
   ]
  },
  {
   "cell_type": "code",
   "execution_count": 45,
   "metadata": {},
   "outputs": [],
   "source": [
    "df.iloc[744:744+24*28].to_csv(\"feb_col.csv\")"
   ]
  },
  {
   "cell_type": "code",
   "execution_count": 37,
   "metadata": {},
   "outputs": [
    {
     "data": {
      "text/html": [
       "<div>\n",
       "<style scoped>\n",
       "    .dataframe tbody tr th:only-of-type {\n",
       "        vertical-align: middle;\n",
       "    }\n",
       "\n",
       "    .dataframe tbody tr th {\n",
       "        vertical-align: top;\n",
       "    }\n",
       "\n",
       "    .dataframe thead th {\n",
       "        text-align: right;\n",
       "    }\n",
       "</style>\n",
       "<table border=\"1\" class=\"dataframe\">\n",
       "  <thead>\n",
       "    <tr style=\"text-align: right;\">\n",
       "      <th></th>\n",
       "      <th>time</th>\n",
       "      <th>Open</th>\n",
       "      <th>High</th>\n",
       "      <th>Low</th>\n",
       "      <th>Close</th>\n",
       "      <th>Volume</th>\n",
       "      <th>returns</th>\n",
       "      <th>volatility</th>\n",
       "    </tr>\n",
       "  </thead>\n",
       "  <tbody>\n",
       "    <tr>\n",
       "      <th>1416</th>\n",
       "      <td>2023-03-01 00:00:00</td>\n",
       "      <td>23129.7</td>\n",
       "      <td>23209.6</td>\n",
       "      <td>23008.4</td>\n",
       "      <td>23090.3</td>\n",
       "      <td>23775.114</td>\n",
       "      <td>NaN</td>\n",
       "      <td>NaN</td>\n",
       "    </tr>\n",
       "    <tr>\n",
       "      <th>1417</th>\n",
       "      <td>2023-03-01 01:00:00</td>\n",
       "      <td>23090.2</td>\n",
       "      <td>23288.0</td>\n",
       "      <td>23063.2</td>\n",
       "      <td>23236.3</td>\n",
       "      <td>20834.415</td>\n",
       "      <td>0.006323</td>\n",
       "      <td>NaN</td>\n",
       "    </tr>\n",
       "    <tr>\n",
       "      <th>1418</th>\n",
       "      <td>2023-03-01 02:00:00</td>\n",
       "      <td>23236.3</td>\n",
       "      <td>23324.0</td>\n",
       "      <td>23221.7</td>\n",
       "      <td>23318.9</td>\n",
       "      <td>11669.677</td>\n",
       "      <td>0.003555</td>\n",
       "      <td>NaN</td>\n",
       "    </tr>\n",
       "    <tr>\n",
       "      <th>1419</th>\n",
       "      <td>2023-03-01 03:00:00</td>\n",
       "      <td>23318.9</td>\n",
       "      <td>23488.2</td>\n",
       "      <td>23292.3</td>\n",
       "      <td>23431.6</td>\n",
       "      <td>38590.226</td>\n",
       "      <td>0.004833</td>\n",
       "      <td>NaN</td>\n",
       "    </tr>\n",
       "    <tr>\n",
       "      <th>1420</th>\n",
       "      <td>2023-03-01 04:00:00</td>\n",
       "      <td>23431.6</td>\n",
       "      <td>23852.6</td>\n",
       "      <td>23414.8</td>\n",
       "      <td>23788.2</td>\n",
       "      <td>49719.278</td>\n",
       "      <td>0.015219</td>\n",
       "      <td>NaN</td>\n",
       "    </tr>\n",
       "    <tr>\n",
       "      <th>...</th>\n",
       "      <td>...</td>\n",
       "      <td>...</td>\n",
       "      <td>...</td>\n",
       "      <td>...</td>\n",
       "      <td>...</td>\n",
       "      <td>...</td>\n",
       "      <td>...</td>\n",
       "      <td>...</td>\n",
       "    </tr>\n",
       "    <tr>\n",
       "      <th>2155</th>\n",
       "      <td>2023-03-31 19:00:00</td>\n",
       "      <td>28307.7</td>\n",
       "      <td>28522.0</td>\n",
       "      <td>28270.0</td>\n",
       "      <td>28459.0</td>\n",
       "      <td>22687.061</td>\n",
       "      <td>0.005348</td>\n",
       "      <td>0.004822</td>\n",
       "    </tr>\n",
       "    <tr>\n",
       "      <th>2156</th>\n",
       "      <td>2023-03-31 20:00:00</td>\n",
       "      <td>28458.9</td>\n",
       "      <td>28464.9</td>\n",
       "      <td>28322.0</td>\n",
       "      <td>28378.6</td>\n",
       "      <td>14577.547</td>\n",
       "      <td>-0.002825</td>\n",
       "      <td>0.004602</td>\n",
       "    </tr>\n",
       "    <tr>\n",
       "      <th>2157</th>\n",
       "      <td>2023-03-31 21:00:00</td>\n",
       "      <td>28378.6</td>\n",
       "      <td>28597.1</td>\n",
       "      <td>28347.9</td>\n",
       "      <td>28468.3</td>\n",
       "      <td>12312.629</td>\n",
       "      <td>0.003161</td>\n",
       "      <td>0.004570</td>\n",
       "    </tr>\n",
       "    <tr>\n",
       "      <th>2158</th>\n",
       "      <td>2023-03-31 22:00:00</td>\n",
       "      <td>28468.4</td>\n",
       "      <td>28632.5</td>\n",
       "      <td>28425.6</td>\n",
       "      <td>28560.5</td>\n",
       "      <td>15749.336</td>\n",
       "      <td>0.003239</td>\n",
       "      <td>0.004602</td>\n",
       "    </tr>\n",
       "    <tr>\n",
       "      <th>2159</th>\n",
       "      <td>2023-03-31 23:00:00</td>\n",
       "      <td>28560.5</td>\n",
       "      <td>28589.8</td>\n",
       "      <td>28454.8</td>\n",
       "      <td>28454.9</td>\n",
       "      <td>8858.776</td>\n",
       "      <td>-0.003697</td>\n",
       "      <td>0.004709</td>\n",
       "    </tr>\n",
       "  </tbody>\n",
       "</table>\n",
       "<p>744 rows × 8 columns</p>\n",
       "</div>"
      ],
      "text/plain": [
       "                     time     Open     High      Low    Close     Volume  \\\n",
       "1416  2023-03-01 00:00:00  23129.7  23209.6  23008.4  23090.3  23775.114   \n",
       "1417  2023-03-01 01:00:00  23090.2  23288.0  23063.2  23236.3  20834.415   \n",
       "1418  2023-03-01 02:00:00  23236.3  23324.0  23221.7  23318.9  11669.677   \n",
       "1419  2023-03-01 03:00:00  23318.9  23488.2  23292.3  23431.6  38590.226   \n",
       "1420  2023-03-01 04:00:00  23431.6  23852.6  23414.8  23788.2  49719.278   \n",
       "...                   ...      ...      ...      ...      ...        ...   \n",
       "2155  2023-03-31 19:00:00  28307.7  28522.0  28270.0  28459.0  22687.061   \n",
       "2156  2023-03-31 20:00:00  28458.9  28464.9  28322.0  28378.6  14577.547   \n",
       "2157  2023-03-31 21:00:00  28378.6  28597.1  28347.9  28468.3  12312.629   \n",
       "2158  2023-03-31 22:00:00  28468.4  28632.5  28425.6  28560.5  15749.336   \n",
       "2159  2023-03-31 23:00:00  28560.5  28589.8  28454.8  28454.9   8858.776   \n",
       "\n",
       "       returns  volatility  \n",
       "1416       NaN         NaN  \n",
       "1417  0.006323         NaN  \n",
       "1418  0.003555         NaN  \n",
       "1419  0.004833         NaN  \n",
       "1420  0.015219         NaN  \n",
       "...        ...         ...  \n",
       "2155  0.005348    0.004822  \n",
       "2156 -0.002825    0.004602  \n",
       "2157  0.003161    0.004570  \n",
       "2158  0.003239    0.004602  \n",
       "2159 -0.003697    0.004709  \n",
       "\n",
       "[744 rows x 8 columns]"
      ]
     },
     "execution_count": 37,
     "metadata": {},
     "output_type": "execute_result"
    }
   ],
   "source": []
  },
  {
   "cell_type": "code",
   "execution_count": 47,
   "metadata": {},
   "outputs": [],
   "source": [
    "df.iloc[2160:2160+720].to_csv(\"apr_col.csv\")"
   ]
  }
 ],
 "metadata": {
  "kernelspec": {
   "display_name": "Python 3",
   "language": "python",
   "name": "python3"
  },
  "language_info": {
   "codemirror_mode": {
    "name": "ipython",
    "version": 3
   },
   "file_extension": ".py",
   "mimetype": "text/x-python",
   "name": "python",
   "nbconvert_exporter": "python",
   "pygments_lexer": "ipython3",
   "version": "3.11.2"
  },
  "orig_nbformat": 4
 },
 "nbformat": 4,
 "nbformat_minor": 2
}
