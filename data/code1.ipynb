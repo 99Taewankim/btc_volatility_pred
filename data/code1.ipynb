{
 "cells": [
  {
   "cell_type": "code",
   "execution_count": 32,
   "metadata": {},
   "outputs": [],
   "source": [
    "import numpy as np\n",
    "import pandas as pd\n",
    "\n",
    "\n",
    " \n",
    "# month 두자리를 string으로 입력\n",
    "def get_taker_maker_ratio(month):\n",
    "\n",
    "    # 파일 경로\n",
    "    file_path = \"BTCUSDT-trades-2023-{}.csv\".format(month)\n",
    "\n",
    "    # 로드할 열의 리스트\n",
    "    selected_columns = [\"quote_qty\", \"time\", \"is_buyer_maker\"]\n",
    "    df = pd.read_csv(file_path, usecols=selected_columns)\n",
    "\n",
    "    # 'time' 열을 시간 단위로 변환 (현재는 밀리초 단위)\n",
    "    df['time'] = pd.to_datetime(df['time'], unit='ms')\n",
    "\n",
    "    # 1시간 간격으로 그룹화하고 is_buyer_maker에 따른 quote_qty 합 계산\n",
    "    result = df.groupby([pd.Grouper(key='time', freq='1H'), 'is_buyer_maker']).agg({'quote_qty': 'sum'}).reset_index()\n",
    "\n",
    "\n",
    "    # 'taker/maker_ratio' 칼럼 추가\n",
    "    result['taker/maker_ratio'] = result.groupby('time')['quote_qty'].transform(lambda x: x.iloc[0] / x.iloc[1])\n",
    "\n",
    "    # 'taker/maker_diff' 칼럼 추가\n",
    "    result['taker-maker_diff'] = result.groupby('time')['quote_qty'].transform(lambda x: x.iloc[0] - x.iloc[1])\n",
    "\n",
    "    # 짝수 행 삭제(중복처리)\n",
    "    result = result[result.index % 2 != 0].reset_index(drop=True)\n",
    "\n",
    "    \n",
    "    # 필요한 열만 선택\n",
    "    result = result[['time', 'taker/maker_ratio', 'taker-maker_diff']]\n",
    "\n",
    "    # 데이터프레임 출력\n",
    "    result.to_csv(\"taker_maker_ratio{}.csv\".format(month))\n",
    "    return None\n",
    "\n"
   ]
  },
  {
   "cell_type": "code",
   "execution_count": 34,
   "metadata": {},
   "outputs": [
    {
     "name": "stderr",
     "output_type": "stream",
     "text": [
      "C:\\Users\\Taewan\\AppData\\Local\\Temp\\ipykernel_8480\\2779920026.py:20: FutureWarning: 'H' is deprecated and will be removed in a future version, please use 'h' instead.\n",
      "  result = df.groupby([pd.Grouper(key='time', freq='1H'), 'is_buyer_maker']).agg({'quote_qty': 'sum'}).reset_index()\n",
      "C:\\Users\\Taewan\\AppData\\Local\\Temp\\ipykernel_8480\\2779920026.py:20: FutureWarning: 'H' is deprecated and will be removed in a future version, please use 'h' instead.\n",
      "  result = df.groupby([pd.Grouper(key='time', freq='1H'), 'is_buyer_maker']).agg({'quote_qty': 'sum'}).reset_index()\n",
      "C:\\Users\\Taewan\\AppData\\Local\\Temp\\ipykernel_8480\\2779920026.py:20: FutureWarning: 'H' is deprecated and will be removed in a future version, please use 'h' instead.\n",
      "  result = df.groupby([pd.Grouper(key='time', freq='1H'), 'is_buyer_maker']).agg({'quote_qty': 'sum'}).reset_index()\n",
      "C:\\Users\\Taewan\\AppData\\Local\\Temp\\ipykernel_8480\\2779920026.py:20: FutureWarning: 'H' is deprecated and will be removed in a future version, please use 'h' instead.\n",
      "  result = df.groupby([pd.Grouper(key='time', freq='1H'), 'is_buyer_maker']).agg({'quote_qty': 'sum'}).reset_index()\n",
      "C:\\Users\\Taewan\\AppData\\Local\\Temp\\ipykernel_8480\\2779920026.py:20: FutureWarning: 'H' is deprecated and will be removed in a future version, please use 'h' instead.\n",
      "  result = df.groupby([pd.Grouper(key='time', freq='1H'), 'is_buyer_maker']).agg({'quote_qty': 'sum'}).reset_index()\n",
      "C:\\Users\\Taewan\\AppData\\Local\\Temp\\ipykernel_8480\\2779920026.py:20: FutureWarning: 'H' is deprecated and will be removed in a future version, please use 'h' instead.\n",
      "  result = df.groupby([pd.Grouper(key='time', freq='1H'), 'is_buyer_maker']).agg({'quote_qty': 'sum'}).reset_index()\n",
      "C:\\Users\\Taewan\\AppData\\Local\\Temp\\ipykernel_8480\\2779920026.py:20: FutureWarning: 'H' is deprecated and will be removed in a future version, please use 'h' instead.\n",
      "  result = df.groupby([pd.Grouper(key='time', freq='1H'), 'is_buyer_maker']).agg({'quote_qty': 'sum'}).reset_index()\n",
      "C:\\Users\\Taewan\\AppData\\Local\\Temp\\ipykernel_8480\\2779920026.py:20: FutureWarning: 'H' is deprecated and will be removed in a future version, please use 'h' instead.\n",
      "  result = df.groupby([pd.Grouper(key='time', freq='1H'), 'is_buyer_maker']).agg({'quote_qty': 'sum'}).reset_index()\n",
      "C:\\Users\\Taewan\\AppData\\Local\\Temp\\ipykernel_8480\\2779920026.py:20: FutureWarning: 'H' is deprecated and will be removed in a future version, please use 'h' instead.\n",
      "  result = df.groupby([pd.Grouper(key='time', freq='1H'), 'is_buyer_maker']).agg({'quote_qty': 'sum'}).reset_index()\n",
      "C:\\Users\\Taewan\\AppData\\Local\\Temp\\ipykernel_8480\\2779920026.py:20: FutureWarning: 'H' is deprecated and will be removed in a future version, please use 'h' instead.\n",
      "  result = df.groupby([pd.Grouper(key='time', freq='1H'), 'is_buyer_maker']).agg({'quote_qty': 'sum'}).reset_index()\n",
      "C:\\Users\\Taewan\\AppData\\Local\\Temp\\ipykernel_8480\\2779920026.py:20: FutureWarning: 'H' is deprecated and will be removed in a future version, please use 'h' instead.\n",
      "  result = df.groupby([pd.Grouper(key='time', freq='1H'), 'is_buyer_maker']).agg({'quote_qty': 'sum'}).reset_index()\n",
      "C:\\Users\\Taewan\\AppData\\Local\\Temp\\ipykernel_8480\\2779920026.py:20: FutureWarning: 'H' is deprecated and will be removed in a future version, please use 'h' instead.\n",
      "  result = df.groupby([pd.Grouper(key='time', freq='1H'), 'is_buyer_maker']).agg({'quote_qty': 'sum'}).reset_index()\n",
      "C:\\Users\\Taewan\\AppData\\Local\\Temp\\ipykernel_8480\\2779920026.py:20: FutureWarning: 'H' is deprecated and will be removed in a future version, please use 'h' instead.\n",
      "  result = df.groupby([pd.Grouper(key='time', freq='1H'), 'is_buyer_maker']).agg({'quote_qty': 'sum'}).reset_index()\n"
     ]
    }
   ],
   "source": [
    "for i in range(1,14):\n",
    "    month = '{:02d}'.format(i)\n",
    "    get_taker_maker_ratio(month)"
   ]
  },
  {
   "cell_type": "code",
   "execution_count": 35,
   "metadata": {},
   "outputs": [],
   "source": [
    "# 빈 DataFrame을 생성\n",
    "combined_data = pd.DataFrame()\n",
    "\n",
    "for i in range(1,14):\n",
    "    month = '{:02d}'.format(i)\n",
    "    df=pd.read_csv(\"taker_maker_ratio{}.csv\".format(month))\n",
    "    combined_data = pd.concat([combined_data, df], ignore_index=True)"
   ]
  },
  {
   "cell_type": "code",
   "execution_count": 36,
   "metadata": {},
   "outputs": [
    {
     "data": {
      "text/html": [
       "<div>\n",
       "<style scoped>\n",
       "    .dataframe tbody tr th:only-of-type {\n",
       "        vertical-align: middle;\n",
       "    }\n",
       "\n",
       "    .dataframe tbody tr th {\n",
       "        vertical-align: top;\n",
       "    }\n",
       "\n",
       "    .dataframe thead th {\n",
       "        text-align: right;\n",
       "    }\n",
       "</style>\n",
       "<table border=\"1\" class=\"dataframe\">\n",
       "  <thead>\n",
       "    <tr style=\"text-align: right;\">\n",
       "      <th></th>\n",
       "      <th>Unnamed: 0</th>\n",
       "      <th>time</th>\n",
       "      <th>taker/maker_ratio</th>\n",
       "      <th>taker-maker_diff</th>\n",
       "    </tr>\n",
       "  </thead>\n",
       "  <tbody>\n",
       "    <tr>\n",
       "      <th>0</th>\n",
       "      <td>0</td>\n",
       "      <td>2023-01-01 00:00:00</td>\n",
       "      <td>0.895108</td>\n",
       "      <td>-4.921784e+06</td>\n",
       "    </tr>\n",
       "    <tr>\n",
       "      <th>1</th>\n",
       "      <td>1</td>\n",
       "      <td>2023-01-01 01:00:00</td>\n",
       "      <td>1.514577</td>\n",
       "      <td>1.086594e+07</td>\n",
       "    </tr>\n",
       "    <tr>\n",
       "      <th>2</th>\n",
       "      <td>2</td>\n",
       "      <td>2023-01-01 02:00:00</td>\n",
       "      <td>0.930625</td>\n",
       "      <td>-1.426735e+06</td>\n",
       "    </tr>\n",
       "    <tr>\n",
       "      <th>3</th>\n",
       "      <td>3</td>\n",
       "      <td>2023-01-01 03:00:00</td>\n",
       "      <td>0.801744</td>\n",
       "      <td>-5.845137e+06</td>\n",
       "    </tr>\n",
       "    <tr>\n",
       "      <th>4</th>\n",
       "      <td>4</td>\n",
       "      <td>2023-01-01 04:00:00</td>\n",
       "      <td>1.009731</td>\n",
       "      <td>2.520080e+05</td>\n",
       "    </tr>\n",
       "    <tr>\n",
       "      <th>...</th>\n",
       "      <td>...</td>\n",
       "      <td>...</td>\n",
       "      <td>...</td>\n",
       "      <td>...</td>\n",
       "    </tr>\n",
       "    <tr>\n",
       "      <th>9379</th>\n",
       "      <td>643</td>\n",
       "      <td>2024-01-27 19:00:00</td>\n",
       "      <td>1.363879</td>\n",
       "      <td>5.008726e+07</td>\n",
       "    </tr>\n",
       "    <tr>\n",
       "      <th>9380</th>\n",
       "      <td>644</td>\n",
       "      <td>2024-01-27 20:00:00</td>\n",
       "      <td>1.180081</td>\n",
       "      <td>1.875999e+07</td>\n",
       "    </tr>\n",
       "    <tr>\n",
       "      <th>9381</th>\n",
       "      <td>645</td>\n",
       "      <td>2024-01-27 21:00:00</td>\n",
       "      <td>1.183708</td>\n",
       "      <td>2.074670e+07</td>\n",
       "    </tr>\n",
       "    <tr>\n",
       "      <th>9382</th>\n",
       "      <td>646</td>\n",
       "      <td>2024-01-27 22:00:00</td>\n",
       "      <td>0.885899</td>\n",
       "      <td>-1.343574e+07</td>\n",
       "    </tr>\n",
       "    <tr>\n",
       "      <th>9383</th>\n",
       "      <td>647</td>\n",
       "      <td>2024-01-27 23:00:00</td>\n",
       "      <td>0.719722</td>\n",
       "      <td>-3.019179e+07</td>\n",
       "    </tr>\n",
       "  </tbody>\n",
       "</table>\n",
       "<p>9384 rows × 4 columns</p>\n",
       "</div>"
      ],
      "text/plain": [
       "      Unnamed: 0                 time  taker/maker_ratio  taker-maker_diff\n",
       "0              0  2023-01-01 00:00:00           0.895108     -4.921784e+06\n",
       "1              1  2023-01-01 01:00:00           1.514577      1.086594e+07\n",
       "2              2  2023-01-01 02:00:00           0.930625     -1.426735e+06\n",
       "3              3  2023-01-01 03:00:00           0.801744     -5.845137e+06\n",
       "4              4  2023-01-01 04:00:00           1.009731      2.520080e+05\n",
       "...          ...                  ...                ...               ...\n",
       "9379         643  2024-01-27 19:00:00           1.363879      5.008726e+07\n",
       "9380         644  2024-01-27 20:00:00           1.180081      1.875999e+07\n",
       "9381         645  2024-01-27 21:00:00           1.183708      2.074670e+07\n",
       "9382         646  2024-01-27 22:00:00           0.885899     -1.343574e+07\n",
       "9383         647  2024-01-27 23:00:00           0.719722     -3.019179e+07\n",
       "\n",
       "[9384 rows x 4 columns]"
      ]
     },
     "execution_count": 36,
     "metadata": {},
     "output_type": "execute_result"
    }
   ],
   "source": [
    "combined_data"
   ]
  },
  {
   "cell_type": "code",
   "execution_count": 38,
   "metadata": {},
   "outputs": [],
   "source": [
    "combined_data['taker-maker_diffsum']=combined_data['taker-maker_diff'].cumsum()\n",
    "combined_data=combined_data[['time','taker/maker_ratio','taker-maker_diffsum']]"
   ]
  },
  {
   "cell_type": "code",
   "execution_count": 39,
   "metadata": {},
   "outputs": [],
   "source": [
    "combined_data.to_csv(\"taker_maker_ratio_all.csv\")"
   ]
  },
  {
   "cell_type": "code",
   "execution_count": 40,
   "metadata": {},
   "outputs": [],
   "source": [
    "import pandas as pd\n",
    "import numpy as np\n",
    "df2=pd.read_csv(\"taker_maker_ratio_all.csv\")"
   ]
  },
  {
   "cell_type": "code",
   "execution_count": 41,
   "metadata": {},
   "outputs": [
    {
     "name": "stdout",
     "output_type": "stream",
     "text": [
      "빠진 시간대:\n",
      "DatetimeIndex(['2023-01-23 21:00:00', '2023-01-23 22:00:00',\n",
      "               '2023-01-23 23:00:00', '2023-01-24 21:00:00',\n",
      "               '2023-01-24 22:00:00', '2023-01-24 23:00:00',\n",
      "               '2023-01-25 16:00:00', '2023-01-25 17:00:00',\n",
      "               '2023-01-25 18:00:00', '2023-01-25 19:00:00',\n",
      "               '2023-01-25 20:00:00', '2023-01-25 21:00:00',\n",
      "               '2023-01-25 22:00:00', '2023-01-25 23:00:00',\n",
      "               '2023-01-26 22:00:00', '2023-01-26 23:00:00',\n",
      "               '2023-03-14 23:00:00', '2023-03-15 22:00:00',\n",
      "               '2023-03-15 23:00:00', '2023-11-21 03:00:00',\n",
      "               '2023-11-21 04:00:00', '2023-11-21 05:00:00',\n",
      "               '2023-11-21 06:00:00', '2023-11-21 07:00:00'],\n",
      "              dtype='datetime64[ns]', freq=None)\n"
     ]
    },
    {
     "name": "stderr",
     "output_type": "stream",
     "text": [
      "C:\\Users\\Taewan\\AppData\\Local\\Temp\\ipykernel_8480\\3284806919.py:7: FutureWarning: 'H' is deprecated and will be removed in a future version, please use 'h' instead.\n",
      "  full_time_range = pd.date_range(start=start_time, end=end_time, freq='1H')\n"
     ]
    }
   ],
   "source": [
    "df2['time'] = pd.to_datetime(df2['time'])  # 문자열을 datetime 형식으로 변환\n",
    "df2.set_index('time', inplace=True)  # time을 인덱스로 설정\n",
    "\n",
    "# 전체 시간 범위 생성 (1시간 간격)\n",
    "start_time = df2.index.min()\n",
    "end_time = df2.index.max()\n",
    "full_time_range = pd.date_range(start=start_time, end=end_time, freq='1H')\n",
    "\n",
    "# 빠진 시간대 찾기\n",
    "missing_time = full_time_range.difference(df2.index)\n",
    "print(\"빠진 시간대:\")\n",
    "print(missing_time)"
   ]
  },
  {
   "cell_type": "code",
   "execution_count": 42,
   "metadata": {},
   "outputs": [],
   "source": [
    "df2=pd.read_csv(\"taker_maker_ratio_all.csv\")"
   ]
  },
  {
   "cell_type": "code",
   "execution_count": 43,
   "metadata": {},
   "outputs": [
    {
     "name": "stderr",
     "output_type": "stream",
     "text": [
      "C:\\Users\\Taewan\\AppData\\Local\\Temp\\ipykernel_8480\\1436147825.py:16: FutureWarning: A value is trying to be set on a copy of a DataFrame or Series through chained assignment using an inplace method.\n",
      "The behavior will change in pandas 3.0. This inplace method will never work because the intermediate object on which we are setting values always behaves as a copy.\n",
      "\n",
      "For example, when doing 'df[col].method(value, inplace=True)', try using 'df.method({col: value}, inplace=True)' or df[col] = df[col].method(value) instead, to perform the operation inplace on the original object.\n",
      "\n",
      "\n",
      "  merged_df['taker/maker_ratio'].fillna(value=1, inplace=True)\n"
     ]
    },
    {
     "data": {
      "text/html": [
       "<div>\n",
       "<style scoped>\n",
       "    .dataframe tbody tr th:only-of-type {\n",
       "        vertical-align: middle;\n",
       "    }\n",
       "\n",
       "    .dataframe tbody tr th {\n",
       "        vertical-align: top;\n",
       "    }\n",
       "\n",
       "    .dataframe thead th {\n",
       "        text-align: right;\n",
       "    }\n",
       "</style>\n",
       "<table border=\"1\" class=\"dataframe\">\n",
       "  <thead>\n",
       "    <tr style=\"text-align: right;\">\n",
       "      <th></th>\n",
       "      <th>Unnamed: 0</th>\n",
       "      <th>time</th>\n",
       "      <th>taker/maker_ratio</th>\n",
       "      <th>taker-maker_diffsum</th>\n",
       "    </tr>\n",
       "  </thead>\n",
       "  <tbody>\n",
       "    <tr>\n",
       "      <th>0</th>\n",
       "      <td>0.0</td>\n",
       "      <td>2023-01-01 00:00:00</td>\n",
       "      <td>0.895108</td>\n",
       "      <td>-4.921784e+06</td>\n",
       "    </tr>\n",
       "    <tr>\n",
       "      <th>1</th>\n",
       "      <td>1.0</td>\n",
       "      <td>2023-01-01 01:00:00</td>\n",
       "      <td>1.514577</td>\n",
       "      <td>5.944155e+06</td>\n",
       "    </tr>\n",
       "    <tr>\n",
       "      <th>2</th>\n",
       "      <td>2.0</td>\n",
       "      <td>2023-01-01 02:00:00</td>\n",
       "      <td>0.930625</td>\n",
       "      <td>4.517420e+06</td>\n",
       "    </tr>\n",
       "    <tr>\n",
       "      <th>3</th>\n",
       "      <td>3.0</td>\n",
       "      <td>2023-01-01 03:00:00</td>\n",
       "      <td>0.801744</td>\n",
       "      <td>-1.327717e+06</td>\n",
       "    </tr>\n",
       "    <tr>\n",
       "      <th>4</th>\n",
       "      <td>4.0</td>\n",
       "      <td>2023-01-01 04:00:00</td>\n",
       "      <td>1.009731</td>\n",
       "      <td>-1.075709e+06</td>\n",
       "    </tr>\n",
       "    <tr>\n",
       "      <th>...</th>\n",
       "      <td>...</td>\n",
       "      <td>...</td>\n",
       "      <td>...</td>\n",
       "      <td>...</td>\n",
       "    </tr>\n",
       "    <tr>\n",
       "      <th>9403</th>\n",
       "      <td>9379.0</td>\n",
       "      <td>2024-01-27 19:00:00</td>\n",
       "      <td>1.363879</td>\n",
       "      <td>-1.798520e+10</td>\n",
       "    </tr>\n",
       "    <tr>\n",
       "      <th>9404</th>\n",
       "      <td>9380.0</td>\n",
       "      <td>2024-01-27 20:00:00</td>\n",
       "      <td>1.180081</td>\n",
       "      <td>-1.796644e+10</td>\n",
       "    </tr>\n",
       "    <tr>\n",
       "      <th>9405</th>\n",
       "      <td>9381.0</td>\n",
       "      <td>2024-01-27 21:00:00</td>\n",
       "      <td>1.183708</td>\n",
       "      <td>-1.794570e+10</td>\n",
       "    </tr>\n",
       "    <tr>\n",
       "      <th>9406</th>\n",
       "      <td>9382.0</td>\n",
       "      <td>2024-01-27 22:00:00</td>\n",
       "      <td>0.885899</td>\n",
       "      <td>-1.795913e+10</td>\n",
       "    </tr>\n",
       "    <tr>\n",
       "      <th>9407</th>\n",
       "      <td>9383.0</td>\n",
       "      <td>2024-01-27 23:00:00</td>\n",
       "      <td>0.719722</td>\n",
       "      <td>-1.798932e+10</td>\n",
       "    </tr>\n",
       "  </tbody>\n",
       "</table>\n",
       "<p>9408 rows × 4 columns</p>\n",
       "</div>"
      ],
      "text/plain": [
       "      Unnamed: 0                time  taker/maker_ratio  taker-maker_diffsum\n",
       "0            0.0 2023-01-01 00:00:00           0.895108        -4.921784e+06\n",
       "1            1.0 2023-01-01 01:00:00           1.514577         5.944155e+06\n",
       "2            2.0 2023-01-01 02:00:00           0.930625         4.517420e+06\n",
       "3            3.0 2023-01-01 03:00:00           0.801744        -1.327717e+06\n",
       "4            4.0 2023-01-01 04:00:00           1.009731        -1.075709e+06\n",
       "...          ...                 ...                ...                  ...\n",
       "9403      9379.0 2024-01-27 19:00:00           1.363879        -1.798520e+10\n",
       "9404      9380.0 2024-01-27 20:00:00           1.180081        -1.796644e+10\n",
       "9405      9381.0 2024-01-27 21:00:00           1.183708        -1.794570e+10\n",
       "9406      9382.0 2024-01-27 22:00:00           0.885899        -1.795913e+10\n",
       "9407      9383.0 2024-01-27 23:00:00           0.719722        -1.798932e+10\n",
       "\n",
       "[9408 rows x 4 columns]"
      ]
     },
     "execution_count": 43,
     "metadata": {},
     "output_type": "execute_result"
    }
   ],
   "source": [
    "missing_df = pd.DataFrame(missing_time,columns=['time'])\n",
    "missing_df['taker/maker_ratio'] = np.nan\n",
    "missing_df['time'] = pd.to_datetime(missing_df['time'])\n",
    "\n",
    "# 시간을 기준으로 두 데이터프레임 합치기\n",
    "merged_df = pd.concat([df2, missing_df], ignore_index=True, axis=0)\n",
    "merged_df['time'] = pd.to_datetime(merged_df['time'])\n",
    "\n",
    "# 시간을 기준으로 정렬\n",
    "merged_df.sort_values(by='time', inplace=True)\n",
    "\n",
    "# 인덱스 재설정\n",
    "merged_df.reset_index(drop=True, inplace=True)\n",
    "\n",
    "# NaN 값을 1로 채우기(거래가 1시간동안 발생하지 않음, 바이낸스 점검 등 이슈로 인한 것으로 추측, 데이터 부재)\n",
    "merged_df['taker/maker_ratio'].fillna(value=1, inplace=True)\n",
    "\n",
    "merged_df"
   ]
  },
  {
   "cell_type": "code",
   "execution_count": 45,
   "metadata": {},
   "outputs": [],
   "source": [
    "merged_df.to_csv(\"full_takermaker.csv\")"
   ]
  },
  {
   "cell_type": "code",
   "execution_count": 46,
   "metadata": {},
   "outputs": [],
   "source": [
    "ohlcvdata=pd.read_csv('df.csv')"
   ]
  },
  {
   "cell_type": "code",
   "execution_count": 49,
   "metadata": {},
   "outputs": [],
   "source": [
    "ohlcvdata=ohlcvdata.iloc[:,1:]"
   ]
  },
  {
   "cell_type": "markdown",
   "metadata": {},
   "source": [
    "###전처리###"
   ]
  },
  {
   "cell_type": "code",
   "execution_count": 50,
   "metadata": {},
   "outputs": [
    {
     "name": "stdout",
     "output_type": "stream",
     "text": [
      "<class 'pandas.core.frame.DataFrame'>\n",
      "RangeIndex: 9408 entries, 0 to 9407\n",
      "Data columns (total 8 columns):\n",
      " #   Column      Non-Null Count  Dtype  \n",
      "---  ------      --------------  -----  \n",
      " 0   time        9408 non-null   object \n",
      " 1   Open        9384 non-null   float64\n",
      " 2   High        9384 non-null   float64\n",
      " 3   Low         9384 non-null   float64\n",
      " 4   Close       9384 non-null   float64\n",
      " 5   Volume      9408 non-null   float64\n",
      " 6   returns     9407 non-null   float64\n",
      " 7   volatility  9388 non-null   float64\n",
      "dtypes: float64(7), object(1)\n",
      "memory usage: 588.1+ KB\n"
     ]
    }
   ],
   "source": [
    "ohlcvdata.info()"
   ]
  },
  {
   "cell_type": "code",
   "execution_count": 51,
   "metadata": {},
   "outputs": [
    {
     "data": {
      "text/plain": [
       "time          2023-01-25 20:00:00\n",
       "Open                          NaN\n",
       "High                          NaN\n",
       "Low                           NaN\n",
       "Close                         NaN\n",
       "Volume                        0.0\n",
       "returns                       0.0\n",
       "volatility               0.003256\n",
       "Name: 596, dtype: object"
      ]
     },
     "execution_count": 51,
     "metadata": {},
     "output_type": "execute_result"
    }
   ],
   "source": [
    "#Nan 예시\n",
    "ohlcvdata.iloc[596]"
   ]
  },
  {
   "cell_type": "code",
   "execution_count": 52,
   "metadata": {},
   "outputs": [
    {
     "name": "stderr",
     "output_type": "stream",
     "text": [
      "C:\\Users\\Taewan\\AppData\\Local\\Temp\\ipykernel_8480\\1153217793.py:3: FutureWarning: A value is trying to be set on a copy of a DataFrame or Series through chained assignment using an inplace method.\n",
      "The behavior will change in pandas 3.0. This inplace method will never work because the intermediate object on which we are setting values always behaves as a copy.\n",
      "\n",
      "For example, when doing 'df[col].method(value, inplace=True)', try using 'df.method({col: value}, inplace=True)' or df[col] = df[col].method(value) instead, to perform the operation inplace on the original object.\n",
      "\n",
      "\n",
      "  ohlcvdata['Open'].fillna(ohlcvdata['Close'].shift(i), inplace=True)\n"
     ]
    }
   ],
   "source": [
    "#Open 열이 Nan을 가지면 이전시점의 종가로 대체한다.\n",
    "for i in range(100):\n",
    "    ohlcvdata['Open'].fillna(ohlcvdata['Close'].shift(i), inplace=True)\n",
    "    # 만약 NaN이 아닌 값을 찾았다면 루프 중단\n",
    "    if not ohlcvdata['Open'].isna().any():\n",
    "        break\n"
   ]
  },
  {
   "cell_type": "code",
   "execution_count": 53,
   "metadata": {},
   "outputs": [],
   "source": [
    "# high,low,close 열에 대해 NaN 값을 해당 시점의 'Open' 값으로 채우기\n",
    "ohlcvdata.fillna(value={'High': ohlcvdata['Open'], 'Low': ohlcvdata['Open'], 'Close': ohlcvdata['Open']}, inplace=True)"
   ]
  },
  {
   "cell_type": "code",
   "execution_count": 54,
   "metadata": {},
   "outputs": [
    {
     "data": {
      "text/plain": [
       "time          2023-01-25 20:00:00\n",
       "Open                      22537.7\n",
       "High                      22537.7\n",
       "Low                       22537.7\n",
       "Close                     22537.7\n",
       "Volume                        0.0\n",
       "returns                       0.0\n",
       "volatility               0.003256\n",
       "Name: 596, dtype: object"
      ]
     },
     "execution_count": 54,
     "metadata": {},
     "output_type": "execute_result"
    }
   ],
   "source": [
    "#실제로 데이터 없는 1월 24일 데이터 변환예시\n",
    "ohlcvdata.iloc[596]"
   ]
  },
  {
   "cell_type": "code",
   "execution_count": 65,
   "metadata": {},
   "outputs": [],
   "source": [
    "def calculate_volatility(data, window=20):\n",
    "    \"\"\"\n",
    "    Calculate the rolling volatility using the standard deviation of returns.\n",
    "    :param data: DataFrame with OHLCV data\n",
    "    :param window: The number of periods to use for calculating the standard deviation\n",
    "    :return: DataFrame with the volatility values\n",
    "    \"\"\"\n",
    "\n",
    "    # Calculate daily returns\n",
    "    data['returns'] = data['Close'].pct_change()\n",
    "\n",
    "    # Calculate the rolling standard deviation of returns\n",
    "    data['volatility'] = data['returns'].rolling(window=window).std()\n",
    "\n",
    "    return data\n",
    "\n",
    "df=calculate_volatility(ohlcvdata)"
   ]
  },
  {
   "cell_type": "code",
   "execution_count": 66,
   "metadata": {},
   "outputs": [
    {
     "name": "stdout",
     "output_type": "stream",
     "text": [
      "<class 'pandas.core.frame.DataFrame'>\n",
      "RangeIndex: 9408 entries, 0 to 9407\n",
      "Data columns (total 8 columns):\n",
      " #   Column      Non-Null Count  Dtype  \n",
      "---  ------      --------------  -----  \n",
      " 0   time        9408 non-null   object \n",
      " 1   Open        9408 non-null   float64\n",
      " 2   High        9408 non-null   float64\n",
      " 3   Low         9408 non-null   float64\n",
      " 4   Close       9408 non-null   float64\n",
      " 5   Volume      9408 non-null   float64\n",
      " 6   returns     9407 non-null   float64\n",
      " 7   volatility  9388 non-null   float64\n",
      "dtypes: float64(7), object(1)\n",
      "memory usage: 588.1+ KB\n"
     ]
    }
   ],
   "source": [
    "#년단위 재계산 통해 nan 값 : return 1개, volatility 20개로 줄임.\n",
    "df.info()"
   ]
  },
  {
   "cell_type": "code",
   "execution_count": 67,
   "metadata": {},
   "outputs": [
    {
     "name": "stderr",
     "output_type": "stream",
     "text": [
      "C:\\Users\\Taewan\\AppData\\Local\\Temp\\ipykernel_8480\\2741563265.py:3: FutureWarning: A value is trying to be set on a copy of a DataFrame or Series through chained assignment using an inplace method.\n",
      "The behavior will change in pandas 3.0. This inplace method will never work because the intermediate object on which we are setting values always behaves as a copy.\n",
      "\n",
      "For example, when doing 'df[col].method(value, inplace=True)', try using 'df.method({col: value}, inplace=True)' or df[col] = df[col].method(value) instead, to perform the operation inplace on the original object.\n",
      "\n",
      "\n",
      "  df['returns'].fillna(returns_mean, inplace=True)\n",
      "C:\\Users\\Taewan\\AppData\\Local\\Temp\\ipykernel_8480\\2741563265.py:6: FutureWarning: A value is trying to be set on a copy of a DataFrame or Series through chained assignment using an inplace method.\n",
      "The behavior will change in pandas 3.0. This inplace method will never work because the intermediate object on which we are setting values always behaves as a copy.\n",
      "\n",
      "For example, when doing 'df[col].method(value, inplace=True)', try using 'df.method({col: value}, inplace=True)' or df[col] = df[col].method(value) instead, to perform the operation inplace on the original object.\n",
      "\n",
      "\n",
      "  df['volatility'].fillna(volatility_mean, inplace=True)\n"
     ]
    }
   ],
   "source": [
    "# 두개 열의 NaN 값을 각 행의 평균값으로 대체\n",
    "returns_mean = df['returns'].mean()\n",
    "df['returns'].fillna(returns_mean, inplace=True)\n",
    "\n",
    "volatility_mean = df['volatility'].mean()\n",
    "df['volatility'].fillna(volatility_mean, inplace=True)"
   ]
  },
  {
   "cell_type": "code",
   "execution_count": 69,
   "metadata": {},
   "outputs": [
    {
     "data": {
      "text/plain": [
       "time          2023-01-01 00:00:00\n",
       "Open                      16537.5\n",
       "High                      16540.9\n",
       "Low                       16504.0\n",
       "Close                     16527.0\n",
       "Volume                   5381.399\n",
       "returns                   0.00011\n",
       "volatility               0.003982\n",
       "Name: 0, dtype: object"
      ]
     },
     "execution_count": 69,
     "metadata": {},
     "output_type": "execute_result"
    }
   ],
   "source": [
    "#첫행 filled 예\n",
    "df.iloc[0]"
   ]
  },
  {
   "cell_type": "markdown",
   "metadata": {},
   "source": [
    "##taker/maker데이터 합치기##"
   ]
  },
  {
   "cell_type": "code",
   "execution_count": 70,
   "metadata": {},
   "outputs": [],
   "source": [
    "df_ratio=pd.read_csv('full_takermaker.csv')"
   ]
  },
  {
   "cell_type": "code",
   "execution_count": 72,
   "metadata": {},
   "outputs": [
    {
     "data": {
      "text/html": [
       "<div>\n",
       "<style scoped>\n",
       "    .dataframe tbody tr th:only-of-type {\n",
       "        vertical-align: middle;\n",
       "    }\n",
       "\n",
       "    .dataframe tbody tr th {\n",
       "        vertical-align: top;\n",
       "    }\n",
       "\n",
       "    .dataframe thead th {\n",
       "        text-align: right;\n",
       "    }\n",
       "</style>\n",
       "<table border=\"1\" class=\"dataframe\">\n",
       "  <thead>\n",
       "    <tr style=\"text-align: right;\">\n",
       "      <th></th>\n",
       "      <th>time</th>\n",
       "      <th>Open</th>\n",
       "      <th>High</th>\n",
       "      <th>Low</th>\n",
       "      <th>Close</th>\n",
       "      <th>Volume</th>\n",
       "      <th>returns</th>\n",
       "      <th>volatility</th>\n",
       "      <th>taker/maker_ratio</th>\n",
       "      <th>taker-maker_diffsum</th>\n",
       "    </tr>\n",
       "  </thead>\n",
       "  <tbody>\n",
       "    <tr>\n",
       "      <th>0</th>\n",
       "      <td>2023-01-01 00:00:00</td>\n",
       "      <td>16537.5</td>\n",
       "      <td>16540.9</td>\n",
       "      <td>16504.0</td>\n",
       "      <td>16527.0</td>\n",
       "      <td>5381.399</td>\n",
       "      <td>0.000110</td>\n",
       "      <td>0.003982</td>\n",
       "      <td>0.895108</td>\n",
       "      <td>-4.921784e+06</td>\n",
       "    </tr>\n",
       "    <tr>\n",
       "      <th>1</th>\n",
       "      <td>2023-01-01 01:00:00</td>\n",
       "      <td>16527.1</td>\n",
       "      <td>16554.3</td>\n",
       "      <td>16524.1</td>\n",
       "      <td>16550.4</td>\n",
       "      <td>3210.826</td>\n",
       "      <td>0.001416</td>\n",
       "      <td>0.003982</td>\n",
       "      <td>1.514577</td>\n",
       "      <td>5.944155e+06</td>\n",
       "    </tr>\n",
       "    <tr>\n",
       "      <th>2</th>\n",
       "      <td>2023-01-01 02:00:00</td>\n",
       "      <td>16550.5</td>\n",
       "      <td>16557.1</td>\n",
       "      <td>16534.8</td>\n",
       "      <td>16542.4</td>\n",
       "      <td>2399.668</td>\n",
       "      <td>-0.000483</td>\n",
       "      <td>0.003982</td>\n",
       "      <td>0.930625</td>\n",
       "      <td>4.517420e+06</td>\n",
       "    </tr>\n",
       "    <tr>\n",
       "      <th>3</th>\n",
       "      <td>2023-01-01 03:00:00</td>\n",
       "      <td>16542.5</td>\n",
       "      <td>16542.5</td>\n",
       "      <td>16515.0</td>\n",
       "      <td>16529.3</td>\n",
       "      <td>3214.480</td>\n",
       "      <td>-0.000792</td>\n",
       "      <td>0.003982</td>\n",
       "      <td>0.801744</td>\n",
       "      <td>-1.327717e+06</td>\n",
       "    </tr>\n",
       "    <tr>\n",
       "      <th>4</th>\n",
       "      <td>2023-01-01 04:00:00</td>\n",
       "      <td>16529.2</td>\n",
       "      <td>16530.4</td>\n",
       "      <td>16508.8</td>\n",
       "      <td>16517.8</td>\n",
       "      <td>3150.954</td>\n",
       "      <td>-0.000696</td>\n",
       "      <td>0.003982</td>\n",
       "      <td>1.009731</td>\n",
       "      <td>-1.075709e+06</td>\n",
       "    </tr>\n",
       "    <tr>\n",
       "      <th>...</th>\n",
       "      <td>...</td>\n",
       "      <td>...</td>\n",
       "      <td>...</td>\n",
       "      <td>...</td>\n",
       "      <td>...</td>\n",
       "      <td>...</td>\n",
       "      <td>...</td>\n",
       "      <td>...</td>\n",
       "      <td>...</td>\n",
       "      <td>...</td>\n",
       "    </tr>\n",
       "    <tr>\n",
       "      <th>9403</th>\n",
       "      <td>2024-01-27 19:00:00</td>\n",
       "      <td>41785.0</td>\n",
       "      <td>41977.0</td>\n",
       "      <td>41775.1</td>\n",
       "      <td>41896.4</td>\n",
       "      <td>7765.565</td>\n",
       "      <td>0.002668</td>\n",
       "      <td>0.002019</td>\n",
       "      <td>1.363879</td>\n",
       "      <td>-1.798520e+10</td>\n",
       "    </tr>\n",
       "    <tr>\n",
       "      <th>9404</th>\n",
       "      <td>2024-01-27 20:00:00</td>\n",
       "      <td>41896.5</td>\n",
       "      <td>42070.0</td>\n",
       "      <td>41896.4</td>\n",
       "      <td>42049.6</td>\n",
       "      <td>5408.243</td>\n",
       "      <td>0.003657</td>\n",
       "      <td>0.002154</td>\n",
       "      <td>1.180081</td>\n",
       "      <td>-1.796644e+10</td>\n",
       "    </tr>\n",
       "    <tr>\n",
       "      <th>9405</th>\n",
       "      <td>2024-01-27 21:00:00</td>\n",
       "      <td>42049.6</td>\n",
       "      <td>42165.6</td>\n",
       "      <td>42001.8</td>\n",
       "      <td>42137.8</td>\n",
       "      <td>5859.277</td>\n",
       "      <td>0.002098</td>\n",
       "      <td>0.002189</td>\n",
       "      <td>1.183708</td>\n",
       "      <td>-1.794570e+10</td>\n",
       "    </tr>\n",
       "    <tr>\n",
       "      <th>9406</th>\n",
       "      <td>2024-01-27 22:00:00</td>\n",
       "      <td>42137.8</td>\n",
       "      <td>42187.1</td>\n",
       "      <td>42057.6</td>\n",
       "      <td>42135.3</td>\n",
       "      <td>5271.863</td>\n",
       "      <td>-0.000059</td>\n",
       "      <td>0.002191</td>\n",
       "      <td>0.885899</td>\n",
       "      <td>-1.795913e+10</td>\n",
       "    </tr>\n",
       "    <tr>\n",
       "      <th>9407</th>\n",
       "      <td>2024-01-27 23:00:00</td>\n",
       "      <td>42135.4</td>\n",
       "      <td>42156.7</td>\n",
       "      <td>42055.4</td>\n",
       "      <td>42102.2</td>\n",
       "      <td>4399.800</td>\n",
       "      <td>-0.000786</td>\n",
       "      <td>0.002200</td>\n",
       "      <td>0.719722</td>\n",
       "      <td>-1.798932e+10</td>\n",
       "    </tr>\n",
       "  </tbody>\n",
       "</table>\n",
       "<p>9408 rows × 10 columns</p>\n",
       "</div>"
      ],
      "text/plain": [
       "                     time     Open     High      Low    Close    Volume  \\\n",
       "0     2023-01-01 00:00:00  16537.5  16540.9  16504.0  16527.0  5381.399   \n",
       "1     2023-01-01 01:00:00  16527.1  16554.3  16524.1  16550.4  3210.826   \n",
       "2     2023-01-01 02:00:00  16550.5  16557.1  16534.8  16542.4  2399.668   \n",
       "3     2023-01-01 03:00:00  16542.5  16542.5  16515.0  16529.3  3214.480   \n",
       "4     2023-01-01 04:00:00  16529.2  16530.4  16508.8  16517.8  3150.954   \n",
       "...                   ...      ...      ...      ...      ...       ...   \n",
       "9403  2024-01-27 19:00:00  41785.0  41977.0  41775.1  41896.4  7765.565   \n",
       "9404  2024-01-27 20:00:00  41896.5  42070.0  41896.4  42049.6  5408.243   \n",
       "9405  2024-01-27 21:00:00  42049.6  42165.6  42001.8  42137.8  5859.277   \n",
       "9406  2024-01-27 22:00:00  42137.8  42187.1  42057.6  42135.3  5271.863   \n",
       "9407  2024-01-27 23:00:00  42135.4  42156.7  42055.4  42102.2  4399.800   \n",
       "\n",
       "       returns  volatility  taker/maker_ratio  taker-maker_diffsum  \n",
       "0     0.000110    0.003982           0.895108        -4.921784e+06  \n",
       "1     0.001416    0.003982           1.514577         5.944155e+06  \n",
       "2    -0.000483    0.003982           0.930625         4.517420e+06  \n",
       "3    -0.000792    0.003982           0.801744        -1.327717e+06  \n",
       "4    -0.000696    0.003982           1.009731        -1.075709e+06  \n",
       "...        ...         ...                ...                  ...  \n",
       "9403  0.002668    0.002019           1.363879        -1.798520e+10  \n",
       "9404  0.003657    0.002154           1.180081        -1.796644e+10  \n",
       "9405  0.002098    0.002189           1.183708        -1.794570e+10  \n",
       "9406 -0.000059    0.002191           0.885899        -1.795913e+10  \n",
       "9407 -0.000786    0.002200           0.719722        -1.798932e+10  \n",
       "\n",
       "[9408 rows x 10 columns]"
      ]
     },
     "execution_count": 72,
     "metadata": {},
     "output_type": "execute_result"
    }
   ],
   "source": [
    "df['time']=df_ratio['time']\n",
    "df['taker/maker_ratio']=df_ratio['taker/maker_ratio']\n",
    "df['taker-maker_diffsum']=df_ratio['taker-maker_diffsum']\n",
    "\n",
    "# 'time' 열의 위치를 0번째로 이동\n",
    "df.insert(0, 'time', df.pop('time'))\n",
    "df"
   ]
  },
  {
   "cell_type": "code",
   "execution_count": 73,
   "metadata": {},
   "outputs": [],
   "source": [
    "df.to_csv(\"ohlcv_baseline.csv\")"
   ]
  },
  {
   "cell_type": "code",
   "execution_count": 71,
   "metadata": {},
   "outputs": [
    {
     "name": "stdout",
     "output_type": "stream",
     "text": [
      "Note: you may need to restart the kernel to use updated packages.\n"
     ]
    }
   ],
   "source": [
    "pip freeze > requirements.txt"
   ]
  }
 ],
 "metadata": {
  "kernelspec": {
   "display_name": "Python 3",
   "language": "python",
   "name": "python3"
  },
  "language_info": {
   "codemirror_mode": {
    "name": "ipython",
    "version": 3
   },
   "file_extension": ".py",
   "mimetype": "text/x-python",
   "name": "python",
   "nbconvert_exporter": "python",
   "pygments_lexer": "ipython3",
   "version": "3.11.2"
  },
  "orig_nbformat": 4
 },
 "nbformat": 4,
 "nbformat_minor": 2
}
